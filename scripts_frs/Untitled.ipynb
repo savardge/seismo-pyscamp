{
 "cells": [
  {
   "cell_type": "code",
   "execution_count": 2,
   "metadata": {},
   "outputs": [],
   "source": [
    "#import pyscamp\n",
    "from obspy import read, UTCDateTime, Stream\n",
    "import os\n",
    "import numpy as np\n",
    "import sys\n",
    "import time\n",
    "from glob import glob\n"
   ]
  },
  {
   "cell_type": "code",
   "execution_count": 10,
   "metadata": {},
   "outputs": [],
   "source": [
    "saclist = glob(\"/home/gilbert_lab/cami_frs/borehole_data/sac_daily_nez_500Hz/2020*/BH.G12..DPZ*.sac\")\n",
    "saclist.sort()\n",
    "\n",
    "with open(\"dates_left.list\", \"w\") as fp:\n",
    "    for f in saclist:\n",
    "        daystr = os.path.split(f)[1].split(\".\")[4][:8]\n",
    "        if not glob(\"matrix_profiles/%s*_mp.npy\" % daystr):\n",
    "            fp.write(\"%s-%s-%s\\n\" % (daystr[:4], daystr[4:6], daystr[6:]))"
   ]
  },
  {
   "cell_type": "code",
   "execution_count": null,
   "metadata": {},
   "outputs": [],
   "source": []
  }
 ],
 "metadata": {
  "kernelspec": {
   "display_name": "Python 3",
   "language": "python",
   "name": "python3"
  },
  "language_info": {
   "codemirror_mode": {
    "name": "ipython",
    "version": 3
   },
   "file_extension": ".py",
   "mimetype": "text/x-python",
   "name": "python",
   "nbconvert_exporter": "python",
   "pygments_lexer": "ipython3",
   "version": "3.8.2"
  }
 },
 "nbformat": 4,
 "nbformat_minor": 4
}
